{
 "cells": [
  {
   "cell_type": "code",
   "execution_count": 2,
   "metadata": {},
   "outputs": [],
   "source": [
    "import pandas as pd\n",
    "import numpy as np"
   ]
  },
  {
   "cell_type": "markdown",
   "metadata": {},
   "source": [
    "Dataframes e series"
   ]
  },
  {
   "cell_type": "code",
   "execution_count": 33,
   "metadata": {},
   "outputs": [
    {
     "name": "stdout",
     "output_type": "stream",
     "text": [
      "1, 2, 3, 4, "
     ]
    }
   ],
   "source": [
    "dados = np.array('i', [1, 2, 3, 4])\n",
    "\n",
    "for x in dados:\n",
    "    print( x, end=', ')\n"
   ]
  },
  {
   "cell_type": "markdown",
   "metadata": {},
   "source": [
    "Matrizes e vetores\n",
    "- e o que tem haver?"
   ]
  },
  {
   "cell_type": "code",
   "execution_count": 37,
   "metadata": {},
   "outputs": [
    {
     "data": {
      "text/plain": [
       "9"
      ]
     },
     "metadata": {},
     "output_type": "display_data"
    }
   ],
   "source": [
    "vetor = [1, 2, 3, 4, 5]\n",
    "\n",
    "matriz = [\n",
    "    [1, 2, 3, 4, 5],\n",
    "    [6, 7, 8, 9, 0],\n",
    "    [1, 2, 3, 4, 5],\n",
    "]\n",
    "\n",
    "display(matriz[1][3])"
   ]
  },
  {
   "cell_type": "markdown",
   "metadata": {},
   "source": [
    "Listas e arrays nativos do Python são mais flexíveis, pois aceitam múltiplos tipos de dados. Mas são menos eficientes para cálculos numéricos e consomem mais memória. Já os arrays do NumPy são otimizados para computação científica e operações matemáticas rápidas."
   ]
  },
  {
   "cell_type": "markdown",
   "metadata": {},
   "source": [
    "## E para resolver isso, temos a incrível biblioteca numpy!\n",
    "\n",
    "Um dos muitos recursos poderosos do numpy, são os seus arrays \"tunados”, com plena capacidade de execução algébrica em seus objetos."
   ]
  },
  {
   "cell_type": "code",
   "execution_count": 70,
   "metadata": {},
   "outputs": [
    {
     "data": {
      "text/plain": [
       "np.float64(3.0)"
      ]
     },
     "execution_count": 70,
     "metadata": {},
     "output_type": "execute_result"
    }
   ],
   "source": [
    "lista = np.array([1, 2, 3, 4, 5])\n",
    "lista * 2\n",
    "\n",
    "lista.min()\n",
    "lista.max()\n",
    "lista.mean()"
   ]
  },
  {
   "cell_type": "code",
   "execution_count": 112,
   "metadata": {},
   "outputs": [
    {
     "data": {
      "text/plain": [
       "array([[1, 4, 7],\n",
       "       [2, 5, 8],\n",
       "       [3, 6, 9]])"
      ]
     },
     "execution_count": 112,
     "metadata": {},
     "output_type": "execute_result"
    }
   ],
   "source": [
    "matriz = np.array([[1, 2, 3],\n",
    "                [4, 5, 6],\n",
    "                [7, 8, 9]])\n",
    "matriz.T"
   ]
  },
  {
   "cell_type": "code",
   "execution_count": 115,
   "metadata": {},
   "outputs": [
    {
     "data": {
      "text/plain": [
       "array([[1, 4, 7],\n",
       "       [2, 5, 8],\n",
       "       [3, 6, 9]])"
      ]
     },
     "metadata": {},
     "output_type": "display_data"
    }
   ],
   "source": [
    "matriz[:, 2]\n",
    "matriz = matriz.T\n",
    "display(matriz)\n"
   ]
  },
  {
   "cell_type": "markdown",
   "metadata": {},
   "source": [
    "Linhas como registros Cada linha guarda informações de um conjunto de dados. \n",
    "➡ Exemplo: Uma tabela onde cada linha representa uma pessoa e cada coluna guarda um dado sobre ela (idade, nome, nota).\n",
    "matriz = [\n",
    "    [1, 2, 3],  # Primeira linha\n",
    "    [4, 5, 6],  # Segunda linha\n",
    "    [7, 8, 9]   # Terceira linha\n",
    "]\n",
    "\n",
    "Colunas como registros Cada coluna guarda um conjunto de dados. \n",
    "➡ Exemplo: Em aprendizado de máquina ou cálculos matemáticos, muitas vezes os registros são organizados por coluna, pois facilita o processamento.\n",
    "matriz = [\n",
    "    [1, 4, 7],  # Primeira coluna de dados\n",
    "    [2, 5, 8],  # Segunda coluna de dados\n",
    "    [3, 6, 9]   # Terceira coluna de dados\n",
    "]"
   ]
  },
  {
   "cell_type": "code",
   "execution_count": 14,
   "metadata": {},
   "outputs": [
    {
     "data": {
      "text/plain": [
       "L1    2\n",
       "L2    7\n",
       "L3    2\n",
       "Name: C2, dtype: int64"
      ]
     },
     "execution_count": 14,
     "metadata": {},
     "output_type": "execute_result"
    }
   ],
   "source": [
    "\n",
    "matriz = [\n",
    "    [1, 2, 3, 4, 5],\n",
    "    [6, 7, 8, 9, 0],\n",
    "    [1, 2, 3, 4, 5],\n",
    "]\n",
    "\n",
    "df = pd.DataFrame(matriz,\n",
    "                  columns= ['C1', 'C2', 'C3', 'C4', 'C5'],\n",
    "                  index=['L1', 'L2', 'L3']\n",
    "  )\n",
    "df['C2']"
   ]
  },
  {
   "cell_type": "code",
   "execution_count": 35,
   "metadata": {},
   "outputs": [
    {
     "data": {
      "text/html": [
       "<div>\n",
       "<style scoped>\n",
       "    .dataframe tbody tr th:only-of-type {\n",
       "        vertical-align: middle;\n",
       "    }\n",
       "\n",
       "    .dataframe tbody tr th {\n",
       "        vertical-align: top;\n",
       "    }\n",
       "\n",
       "    .dataframe thead th {\n",
       "        text-align: right;\n",
       "    }\n",
       "</style>\n",
       "<table border=\"1\" class=\"dataframe\">\n",
       "  <thead>\n",
       "    <tr style=\"text-align: right;\">\n",
       "      <th></th>\n",
       "      <th>C1</th>\n",
       "      <th>C2</th>\n",
       "      <th>C3</th>\n",
       "    </tr>\n",
       "  </thead>\n",
       "  <tbody>\n",
       "    <tr>\n",
       "      <th>L1</th>\n",
       "      <td>1.00</td>\n",
       "      <td>4</td>\n",
       "      <td>9.00</td>\n",
       "    </tr>\n",
       "    <tr>\n",
       "      <th>L2</th>\n",
       "      <td>30.25</td>\n",
       "      <td>49</td>\n",
       "      <td>64.00</td>\n",
       "    </tr>\n",
       "    <tr>\n",
       "      <th>L3</th>\n",
       "      <td>1.00</td>\n",
       "      <td>4</td>\n",
       "      <td>12.96</td>\n",
       "    </tr>\n",
       "  </tbody>\n",
       "</table>\n",
       "</div>"
      ],
      "text/plain": [
       "       C1  C2     C3\n",
       "L1   1.00   4   9.00\n",
       "L2  30.25  49  64.00\n",
       "L3   1.00   4  12.96"
      ]
     },
     "execution_count": 35,
     "metadata": {},
     "output_type": "execute_result"
    }
   ],
   "source": [
    "matriz = [\n",
    "    [1, 2, 3,],\n",
    "    [5.5, 7, 8,],\n",
    "    [1, 2, 3.6,],\n",
    "]\n",
    "\n",
    "df = pd.DataFrame(matriz,\n",
    "                  columns=['C1', 'C2', 'C3'],\n",
    "                  index=['L1', 'L2', 'L3']\n",
    "                  )\n",
    "df ** 2"
   ]
  },
  {
   "cell_type": "markdown",
   "metadata": {},
   "source": [
    "## Vamos falar de Series!\n",
    "\n",
    "Um dos grandes segredos do Pandas, está nas Series. Essa estrutura de dados funciona como um array de 1 dimensão (vetor), mas com a possibilidade de ter labels.\n",
    "\n",
    "Além disso, a estrutura Series do Pandas, permite filtros, gráficos a agrupamentos avançados."
   ]
  },
  {
   "cell_type": "code",
   "execution_count": 4,
   "metadata": {},
   "outputs": [
    {
     "data": {
      "text/plain": [
       "count        4.000000\n",
       "mean      9875.000000\n",
       "std       4589.389938\n",
       "min       4500.000000\n",
       "25%       7125.000000\n",
       "50%      10000.000000\n",
       "75%      12750.000000\n",
       "max      15000.000000\n",
       "dtype: float64"
      ]
     },
     "execution_count": 4,
     "metadata": {},
     "output_type": "execute_result"
    }
   ],
   "source": [
    "salarios = {\n",
    "    'junior': 4500,\n",
    "    'pleno': 8000,\n",
    "    'senior': 12000,\n",
    "    'especialista': 15000,\n",
    "}\n",
    "\n",
    "s = pd.Series(salarios)\n",
    "s.describe()\n",
    "\n",
    "#std é standard deviation, desvio padrão."
   ]
  },
  {
   "cell_type": "code",
   "execution_count": 55,
   "metadata": {},
   "outputs": [
    {
     "data": {
      "text/plain": [
       "count       24.000000\n",
       "mean     14712.500000\n",
       "std       1644.043927\n",
       "min      12200.000000\n",
       "25%      13275.000000\n",
       "50%      14700.000000\n",
       "75%      16200.000000\n",
       "max      17200.000000\n",
       "dtype: float64"
      ]
     },
     "execution_count": 55,
     "metadata": {},
     "output_type": "execute_result"
    }
   ],
   "source": [
    "\n",
    "salarios = {\n",
    "    'Ana Souza': 4800,\n",
    "    'Bruno Lima': 9200,\n",
    "    'Carlos Oliveira': 13500,\n",
    "    'Daniela Ribeiro': 16500,\n",
    "    'Eduardo Martins': 5100,\n",
    "    'Fernanda Costa': 8700,\n",
    "    'Gabriel Santos': 12500,\n",
    "    'Helena Rocha': 15500,\n",
    "    'Igor Mendes': 4600,\n",
    "    'Juliana Castro': 9100,\n",
    "    'Kevin Barbosa': 14200,\n",
    "    'Larissa Teixeira': 17200,\n",
    "    'Marcelo Pinto': 4950,\n",
    "    'Natália Freitas': 8600,\n",
    "    'Otávio Silveira': 13300,\n",
    "    'Patrícia Almeida': 16200,\n",
    "    'Renato Nunes': 4700,\n",
    "    'Simone Farias': 8900,\n",
    "    'Thiago Monteiro': 14000,\n",
    "    'Ursula Xavier': 17000,\n",
    "    'Vinícius Araújo': 5200,\n",
    "    'William Costa': 9400,\n",
    "    'Xavier Lopes': 13000,\n",
    "    'Yasmin Duarte': 16000,\n",
    "    'Zeca Cardoso': 4850,\n",
    "    'Aline Moreira': 8800,\n",
    "    'Beto Souza': 13800,\n",
    "    'Cecília Neves': 16800,\n",
    "    'Davi Rodrigues': 5300,\n",
    "    'Emilly Campos': 9300,\n",
    "    'Fábio Cunha': 12800,\n",
    "    'Gisele Mendes': 15800,\n",
    "    'Hugo Farias': 4700,\n",
    "    'Isabela Moraes': 9000,\n",
    "    'Jonas Reis': 13500,\n",
    "    'Kátia Sampaio': 16500,\n",
    "    'Leonardo Batista': 5100,\n",
    "    'Mirella Fernandes': 8900,\n",
    "    'Nelson Gonçalves': 12600,\n",
    "    'Olívia Lima': 15600,\n",
    "    'Pedro Henrique': 4500,\n",
    "    'Quésia Martins': 8500,\n",
    "    'Rafael Almeida': 12200,\n",
    "    'Sabrina Lopes': 15200,\n",
    "    'Túlio Borges': 5200,\n",
    "    'Valéria Menezes': 9600,\n",
    "    'Wagner Dias': 13200,\n",
    "    'Xênia Barreto': 16200,\n",
    "    'Yago Amaral': 5000,\n",
    "    'Zilda Fonseca': 8800,\n",
    "}\n",
    "\n",
    "s = pd.Series(salarios)\n",
    "\n",
    "s[lambda x: x > 10000].describe()\n",
    "\n"
   ]
  },
  {
   "cell_type": "code",
   "execution_count": null,
   "metadata": {},
   "outputs": [],
   "source": []
  }
 ],
 "metadata": {
  "kernelspec": {
   "display_name": "Python 3",
   "language": "python",
   "name": "python3"
  },
  "language_info": {
   "codemirror_mode": {
    "name": "ipython",
    "version": 3
   },
   "file_extension": ".py",
   "mimetype": "text/x-python",
   "name": "python",
   "nbconvert_exporter": "python",
   "pygments_lexer": "ipython3",
   "version": "3.13.1"
  }
 },
 "nbformat": 4,
 "nbformat_minor": 2
}
