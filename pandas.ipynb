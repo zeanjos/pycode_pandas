{
 "cells": [
  {
   "cell_type": "code",
   "execution_count": 39,
   "metadata": {},
   "outputs": [],
   "source": [
    "import pandas as pd\n",
    "import numpy as np"
   ]
  },
  {
   "cell_type": "markdown",
   "metadata": {},
   "source": [
    "Dataframes e series"
   ]
  },
  {
   "cell_type": "code",
   "execution_count": 33,
   "metadata": {},
   "outputs": [
    {
     "name": "stdout",
     "output_type": "stream",
     "text": [
      "1, 2, 3, 4, "
     ]
    }
   ],
   "source": [
    "dados = np.array('i', [1, 2, 3, 4])\n",
    "\n",
    "for x in dados:\n",
    "    print( x, end=', ')\n"
   ]
  },
  {
   "cell_type": "markdown",
   "metadata": {},
   "source": [
    "Matrizes e vetores\n",
    "- e o que tem haver?"
   ]
  },
  {
   "cell_type": "code",
   "execution_count": 37,
   "metadata": {},
   "outputs": [
    {
     "data": {
      "text/plain": [
       "9"
      ]
     },
     "metadata": {},
     "output_type": "display_data"
    }
   ],
   "source": [
    "vetor = [1, 2, 3, 4, 5]\n",
    "\n",
    "matriz = [\n",
    "    [1, 2, 3, 4, 5],\n",
    "    [6, 7, 8, 9, 0],\n",
    "    [1, 2, 3, 4, 5],\n",
    "]\n",
    "\n",
    "display(matriz[1][3])"
   ]
  },
  {
   "cell_type": "markdown",
   "metadata": {},
   "source": [
    "Listas e arrays nativos do Python são mais flexíveis, pois aceitam múltiplos tipos de dados. Mas são menos eficientes para cálculos numéricos e consomem mais memória. Já os arrays do NumPy são otimizados para computação científica e operações matemáticas rápidas."
   ]
  },
  {
   "cell_type": "markdown",
   "metadata": {},
   "source": [
    "## E para resolver isso, temos a incrível biblioteca numpy!\n",
    "\n",
    "Um dos muitos recursos poderosos do numpy, são os seus arrays \"tunados”, com plena capacidade de execução algébrica em seus objetos."
   ]
  },
  {
   "cell_type": "code",
   "execution_count": 70,
   "metadata": {},
   "outputs": [
    {
     "data": {
      "text/plain": [
       "np.float64(3.0)"
      ]
     },
     "execution_count": 70,
     "metadata": {},
     "output_type": "execute_result"
    }
   ],
   "source": [
    "lista = np.array([1, 2, 3, 4, 5])\n",
    "lista * 2\n",
    "\n",
    "lista.min()\n",
    "lista.max()\n",
    "lista.mean()"
   ]
  },
  {
   "cell_type": "code",
   "execution_count": 112,
   "metadata": {},
   "outputs": [
    {
     "data": {
      "text/plain": [
       "array([[1, 4, 7],\n",
       "       [2, 5, 8],\n",
       "       [3, 6, 9]])"
      ]
     },
     "execution_count": 112,
     "metadata": {},
     "output_type": "execute_result"
    }
   ],
   "source": [
    "matriz = np.array([[1, 2, 3],\n",
    "                [4, 5, 6],\n",
    "                [7, 8, 9]])\n",
    "matriz.T"
   ]
  },
  {
   "cell_type": "code",
   "execution_count": 115,
   "metadata": {},
   "outputs": [
    {
     "data": {
      "text/plain": [
       "array([[1, 4, 7],\n",
       "       [2, 5, 8],\n",
       "       [3, 6, 9]])"
      ]
     },
     "metadata": {},
     "output_type": "display_data"
    }
   ],
   "source": [
    "matriz[:, 2]\n",
    "matriz = matriz.T\n",
    "display(matriz)\n"
   ]
  },
  {
   "cell_type": "markdown",
   "metadata": {},
   "source": [
    "Linhas como registros Cada linha guarda informações de um conjunto de dados. \n",
    "➡ Exemplo: Uma tabela onde cada linha representa uma pessoa e cada coluna guarda um dado sobre ela (idade, nome, nota).\n",
    "matriz = [\n",
    "    [1, 2, 3],  # Primeira linha\n",
    "    [4, 5, 6],  # Segunda linha\n",
    "    [7, 8, 9]   # Terceira linha\n",
    "]\n",
    "\n",
    "Colunas como registros Cada coluna guarda um conjunto de dados. \n",
    "➡ Exemplo: Em aprendizado de máquina ou cálculos matemáticos, muitas vezes os registros são organizados por coluna, pois facilita o processamento.\n",
    "matriz = [\n",
    "    [1, 4, 7],  # Primeira coluna de dados\n",
    "    [2, 5, 8],  # Segunda coluna de dados\n",
    "    [3, 6, 9]   # Terceira coluna de dados\n",
    "]"
   ]
  },
  {
   "cell_type": "code",
   "execution_count": 14,
   "metadata": {},
   "outputs": [
    {
     "data": {
      "text/plain": [
       "L1    2\n",
       "L2    7\n",
       "L3    2\n",
       "Name: C2, dtype: int64"
      ]
     },
     "execution_count": 14,
     "metadata": {},
     "output_type": "execute_result"
    }
   ],
   "source": [
    "\n",
    "matriz = [\n",
    "    [1, 2, 3, 4, 5],\n",
    "    [6, 7, 8, 9, 0],\n",
    "    [1, 2, 3, 4, 5],\n",
    "]\n",
    "\n",
    "df = pd.DataFrame(matriz,\n",
    "                  columns= ['C1', 'C2', 'C3', 'C4', 'C5'],\n",
    "                  index=['L1', 'L2', 'L3']\n",
    "  )\n",
    "df['C2']"
   ]
  },
  {
   "cell_type": "code",
   "execution_count": 35,
   "metadata": {},
   "outputs": [
    {
     "data": {
      "text/html": [
       "<div>\n",
       "<style scoped>\n",
       "    .dataframe tbody tr th:only-of-type {\n",
       "        vertical-align: middle;\n",
       "    }\n",
       "\n",
       "    .dataframe tbody tr th {\n",
       "        vertical-align: top;\n",
       "    }\n",
       "\n",
       "    .dataframe thead th {\n",
       "        text-align: right;\n",
       "    }\n",
       "</style>\n",
       "<table border=\"1\" class=\"dataframe\">\n",
       "  <thead>\n",
       "    <tr style=\"text-align: right;\">\n",
       "      <th></th>\n",
       "      <th>C1</th>\n",
       "      <th>C2</th>\n",
       "      <th>C3</th>\n",
       "    </tr>\n",
       "  </thead>\n",
       "  <tbody>\n",
       "    <tr>\n",
       "      <th>L1</th>\n",
       "      <td>1.00</td>\n",
       "      <td>4</td>\n",
       "      <td>9.00</td>\n",
       "    </tr>\n",
       "    <tr>\n",
       "      <th>L2</th>\n",
       "      <td>30.25</td>\n",
       "      <td>49</td>\n",
       "      <td>64.00</td>\n",
       "    </tr>\n",
       "    <tr>\n",
       "      <th>L3</th>\n",
       "      <td>1.00</td>\n",
       "      <td>4</td>\n",
       "      <td>12.96</td>\n",
       "    </tr>\n",
       "  </tbody>\n",
       "</table>\n",
       "</div>"
      ],
      "text/plain": [
       "       C1  C2     C3\n",
       "L1   1.00   4   9.00\n",
       "L2  30.25  49  64.00\n",
       "L3   1.00   4  12.96"
      ]
     },
     "execution_count": 35,
     "metadata": {},
     "output_type": "execute_result"
    }
   ],
   "source": [
    "matriz = [\n",
    "    [1, 2, 3,],\n",
    "    [5.5, 7, 8,],\n",
    "    [1, 2, 3.6,],\n",
    "]\n",
    "\n",
    "df = pd.DataFrame(matriz,\n",
    "                  columns=['C1', 'C2', 'C3'],\n",
    "                  index=['L1', 'L2', 'L3']\n",
    "                  )\n",
    "df ** 2"
   ]
  },
  {
   "cell_type": "markdown",
   "metadata": {},
   "source": [
    "## Vamos falar de Series!\n",
    "\n",
    "Um dos grandes segredos do Pandas, está nas Series. Essa estrutura de dados funciona como um array de 1 dimensão (vetor), mas com a possibilidade de ter labels.\n",
    "\n",
    "Além disso, a estrutura Series do Pandas, permite filtros, gráficos a agrupamentos avançados."
   ]
  },
  {
   "cell_type": "code",
   "execution_count": 40,
   "metadata": {},
   "outputs": [
    {
     "data": {
      "text/plain": [
       "np.int64(4500)"
      ]
     },
     "execution_count": 40,
     "metadata": {},
     "output_type": "execute_result"
    }
   ],
   "source": [
    "salarios = {\n",
    "    'junior': 4500,\n",
    "    'pleno': 8000,\n",
    "    'senior': 12000,\n",
    "    'especialista': 15000,\n",
    "}\n",
    "\n",
    "s = pd.Series(salarios)\n",
    "s.min()\n",
    "s.mean()\n",
    "s.max()"
   ]
  }
 ],
 "metadata": {
  "kernelspec": {
   "display_name": "Python 3",
   "language": "python",
   "name": "python3"
  },
  "language_info": {
   "codemirror_mode": {
    "name": "ipython",
    "version": 3
   },
   "file_extension": ".py",
   "mimetype": "text/x-python",
   "name": "python",
   "nbconvert_exporter": "python",
   "pygments_lexer": "ipython3",
   "version": "3.13.1"
  }
 },
 "nbformat": 4,
 "nbformat_minor": 2
}
